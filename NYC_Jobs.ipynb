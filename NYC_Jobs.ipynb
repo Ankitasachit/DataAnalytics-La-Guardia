{
  "nbformat": 4,
  "nbformat_minor": 0,
  "metadata": {
    "colab": {
      "provenance": []
    },
    "kernelspec": {
      "name": "python3",
      "display_name": "Python 3"
    },
    "language_info": {
      "name": "python"
    }
  },
  "cells": [
    {
      "cell_type": "code",
      "execution_count": 1,
      "metadata": {
        "id": "Oi-Qleuuu7R1"
      },
      "outputs": [],
      "source": [
        "# Importing Libraries\n",
        "import numpy as np\n",
        "import pandas as pd\n",
        "import seaborn as sns\n",
        "import matplotlib.pyplot as plt\n",
        "import re"
      ]
    },
    {
      "cell_type": "code",
      "source": [
        "# Read the CSV File\n",
        "df = pd.read_csv('NYC_Jobs.csv')"
      ],
      "metadata": {
        "id": "2P7hGMlMx7O7"
      },
      "execution_count": 2,
      "outputs": []
    },
    {
      "cell_type": "code",
      "source": [
        "df.head()"
      ],
      "metadata": {
        "colab": {
          "base_uri": "https://localhost:8080/",
          "height": 672
        },
        "id": "rlZcqauQyWeM",
        "outputId": "608d4710-ada2-4bfc-ee7f-4b581e01ad72"
      },
      "execution_count": 3,
      "outputs": [
        {
          "output_type": "execute_result",
          "data": {
            "text/plain": [
              "   Job ID                          Agency Posting Type  # Of Positions  \\\n",
              "0  577220      DEPT OF PARKS & RECREATION     External              10   \n",
              "1  571454  DEPT OF ENVIRONMENT PROTECTION     External               2   \n",
              "2  588481         BRONX DISTRICT ATTORNEY     External              10   \n",
              "3  591162   DEPT OF HEALTH/MENTAL HYGIENE     Internal               1   \n",
              "4  548281  DEPT OF ENVIRONMENT PROTECTION     Internal               1   \n",
              "\n",
              "                                      Business Title  \\\n",
              "0                      Associate Park Service Worker   \n",
              "1        Instrumentation Specialist II - 2 positions   \n",
              "2  Trial Division- Major Case Assistant District ...   \n",
              "3  Regional Nurse Supervisor - STI Unit, Bureau o...   \n",
              "4         Associate Energy Project Manager - Expense   \n",
              "\n",
              "              Civil Service Title Title Classification Title Code No Level  \\\n",
              "0   ASSOCIATE PARK SERVICE WORKER        Competitive-1         81106    00   \n",
              "1      INSTRUMENTATION SPECIALIST        Competitive-1         91001    02   \n",
              "2  ASSISTANT DISTRICT ATTORNEY (S             Exempt-4         30114    00   \n",
              "3  ADMINISTRATIVE PUBLIC HEALTH N        Competitive-1         1003C    00   \n",
              "4         CITY RESEARCH SCIENTIST    Non-Competitive-5         21744    02   \n",
              "\n",
              "                                        Job Category  ...  \\\n",
              "0                  Building Operations & Maintenance  ...   \n",
              "1                  Building Operations & Maintenance  ...   \n",
              "2  Legal Affairs Public Safety, Inspections, & En...  ...   \n",
              "3  Constituent Services & Community Programs Heal...  ...   \n",
              "4  Engineering, Architecture, & Planning Technolo...  ...   \n",
              "\n",
              "                              Additional Information  \\\n",
              "0  Note: Salary will increase beginning of summer...   \n",
              "1  The City of New York is an inclusive equal opp...   \n",
              "2                                                NaN   \n",
              "3  **IMPORTANT NOTES TO ALL CANDIDATES:  Please n...   \n",
              "4  DEP is an equal opportunity employer with a st...   \n",
              "\n",
              "                                            To Apply  \\\n",
              "0  Parks Employees:\\t 1) From a Parks computer: A...   \n",
              "1                   Click the âApply Nowâ button   \n",
              "2  We appreciate your interest in a position with...   \n",
              "3  Apply online with a cover letter to https://a1...   \n",
              "4  Click on âApply Nowâ and submit a resume a...   \n",
              "\n",
              "                                         Hours/Shift  \\\n",
              "0                                                NaN   \n",
              "1  35 hours per week / May be required to work sh...   \n",
              "2                                                NaN   \n",
              "3                                                NaN   \n",
              "4                                  35 hours per week   \n",
              "\n",
              "                     Work Location 1 Recruitment Contact  \\\n",
              "0                      Staten Island                 NaN   \n",
              "1  10 Walker Road Valhalla, NY 10595                 NaN   \n",
              "2                                NaN                 NaN   \n",
              "3                                NaN                 NaN   \n",
              "4     59-17 Junction Blvd, Corona NY                 NaN   \n",
              "\n",
              "                               Residency Requirement Posting Date  \\\n",
              "0  Residency in New York City, Nassau, Orange, Ro...   03/03/2023   \n",
              "1  New York City residency is not required for th...   01/30/2023   \n",
              "2  New York State Residency is REQUIRED on the fi...   05/25/2023   \n",
              "3  New York City Residency is not required for th...   07/03/2023   \n",
              "4  New York City residency is generally required ...   09/07/2022   \n",
              "\n",
              "    Post Until Posting Updated Process Date  \n",
              "0          NaN      03/15/2023   08/08/2023  \n",
              "1          NaN      04/17/2023   08/08/2023  \n",
              "2  24-MAY-2024      05/25/2023   08/08/2023  \n",
              "3  31-OCT-2023      07/03/2023   08/08/2023  \n",
              "4          NaN      09/13/2022   08/08/2023  \n",
              "\n",
              "[5 rows x 30 columns]"
            ],
            "text/html": [
              "\n",
              "  <div id=\"df-1758c439-c8da-46fa-8dcd-af206aaf594f\" class=\"colab-df-container\">\n",
              "    <div>\n",
              "<style scoped>\n",
              "    .dataframe tbody tr th:only-of-type {\n",
              "        vertical-align: middle;\n",
              "    }\n",
              "\n",
              "    .dataframe tbody tr th {\n",
              "        vertical-align: top;\n",
              "    }\n",
              "\n",
              "    .dataframe thead th {\n",
              "        text-align: right;\n",
              "    }\n",
              "</style>\n",
              "<table border=\"1\" class=\"dataframe\">\n",
              "  <thead>\n",
              "    <tr style=\"text-align: right;\">\n",
              "      <th></th>\n",
              "      <th>Job ID</th>\n",
              "      <th>Agency</th>\n",
              "      <th>Posting Type</th>\n",
              "      <th># Of Positions</th>\n",
              "      <th>Business Title</th>\n",
              "      <th>Civil Service Title</th>\n",
              "      <th>Title Classification</th>\n",
              "      <th>Title Code No</th>\n",
              "      <th>Level</th>\n",
              "      <th>Job Category</th>\n",
              "      <th>...</th>\n",
              "      <th>Additional Information</th>\n",
              "      <th>To Apply</th>\n",
              "      <th>Hours/Shift</th>\n",
              "      <th>Work Location 1</th>\n",
              "      <th>Recruitment Contact</th>\n",
              "      <th>Residency Requirement</th>\n",
              "      <th>Posting Date</th>\n",
              "      <th>Post Until</th>\n",
              "      <th>Posting Updated</th>\n",
              "      <th>Process Date</th>\n",
              "    </tr>\n",
              "  </thead>\n",
              "  <tbody>\n",
              "    <tr>\n",
              "      <th>0</th>\n",
              "      <td>577220</td>\n",
              "      <td>DEPT OF PARKS &amp; RECREATION</td>\n",
              "      <td>External</td>\n",
              "      <td>10</td>\n",
              "      <td>Associate Park Service Worker</td>\n",
              "      <td>ASSOCIATE PARK SERVICE WORKER</td>\n",
              "      <td>Competitive-1</td>\n",
              "      <td>81106</td>\n",
              "      <td>00</td>\n",
              "      <td>Building Operations &amp; Maintenance</td>\n",
              "      <td>...</td>\n",
              "      <td>Note: Salary will increase beginning of summer...</td>\n",
              "      <td>Parks Employees:\\t 1) From a Parks computer: A...</td>\n",
              "      <td>NaN</td>\n",
              "      <td>Staten Island</td>\n",
              "      <td>NaN</td>\n",
              "      <td>Residency in New York City, Nassau, Orange, Ro...</td>\n",
              "      <td>03/03/2023</td>\n",
              "      <td>NaN</td>\n",
              "      <td>03/15/2023</td>\n",
              "      <td>08/08/2023</td>\n",
              "    </tr>\n",
              "    <tr>\n",
              "      <th>1</th>\n",
              "      <td>571454</td>\n",
              "      <td>DEPT OF ENVIRONMENT PROTECTION</td>\n",
              "      <td>External</td>\n",
              "      <td>2</td>\n",
              "      <td>Instrumentation Specialist II - 2 positions</td>\n",
              "      <td>INSTRUMENTATION SPECIALIST</td>\n",
              "      <td>Competitive-1</td>\n",
              "      <td>91001</td>\n",
              "      <td>02</td>\n",
              "      <td>Building Operations &amp; Maintenance</td>\n",
              "      <td>...</td>\n",
              "      <td>The City of New York is an inclusive equal opp...</td>\n",
              "      <td>Click the âApply Nowâ button</td>\n",
              "      <td>35 hours per week / May be required to work sh...</td>\n",
              "      <td>10 Walker Road Valhalla, NY 10595</td>\n",
              "      <td>NaN</td>\n",
              "      <td>New York City residency is not required for th...</td>\n",
              "      <td>01/30/2023</td>\n",
              "      <td>NaN</td>\n",
              "      <td>04/17/2023</td>\n",
              "      <td>08/08/2023</td>\n",
              "    </tr>\n",
              "    <tr>\n",
              "      <th>2</th>\n",
              "      <td>588481</td>\n",
              "      <td>BRONX DISTRICT ATTORNEY</td>\n",
              "      <td>External</td>\n",
              "      <td>10</td>\n",
              "      <td>Trial Division- Major Case Assistant District ...</td>\n",
              "      <td>ASSISTANT DISTRICT ATTORNEY (S</td>\n",
              "      <td>Exempt-4</td>\n",
              "      <td>30114</td>\n",
              "      <td>00</td>\n",
              "      <td>Legal Affairs Public Safety, Inspections, &amp; En...</td>\n",
              "      <td>...</td>\n",
              "      <td>NaN</td>\n",
              "      <td>We appreciate your interest in a position with...</td>\n",
              "      <td>NaN</td>\n",
              "      <td>NaN</td>\n",
              "      <td>NaN</td>\n",
              "      <td>New York State Residency is REQUIRED on the fi...</td>\n",
              "      <td>05/25/2023</td>\n",
              "      <td>24-MAY-2024</td>\n",
              "      <td>05/25/2023</td>\n",
              "      <td>08/08/2023</td>\n",
              "    </tr>\n",
              "    <tr>\n",
              "      <th>3</th>\n",
              "      <td>591162</td>\n",
              "      <td>DEPT OF HEALTH/MENTAL HYGIENE</td>\n",
              "      <td>Internal</td>\n",
              "      <td>1</td>\n",
              "      <td>Regional Nurse Supervisor - STI Unit, Bureau o...</td>\n",
              "      <td>ADMINISTRATIVE PUBLIC HEALTH N</td>\n",
              "      <td>Competitive-1</td>\n",
              "      <td>1003C</td>\n",
              "      <td>00</td>\n",
              "      <td>Constituent Services &amp; Community Programs Heal...</td>\n",
              "      <td>...</td>\n",
              "      <td>**IMPORTANT NOTES TO ALL CANDIDATES:  Please n...</td>\n",
              "      <td>Apply online with a cover letter to https://a1...</td>\n",
              "      <td>NaN</td>\n",
              "      <td>NaN</td>\n",
              "      <td>NaN</td>\n",
              "      <td>New York City Residency is not required for th...</td>\n",
              "      <td>07/03/2023</td>\n",
              "      <td>31-OCT-2023</td>\n",
              "      <td>07/03/2023</td>\n",
              "      <td>08/08/2023</td>\n",
              "    </tr>\n",
              "    <tr>\n",
              "      <th>4</th>\n",
              "      <td>548281</td>\n",
              "      <td>DEPT OF ENVIRONMENT PROTECTION</td>\n",
              "      <td>Internal</td>\n",
              "      <td>1</td>\n",
              "      <td>Associate Energy Project Manager - Expense</td>\n",
              "      <td>CITY RESEARCH SCIENTIST</td>\n",
              "      <td>Non-Competitive-5</td>\n",
              "      <td>21744</td>\n",
              "      <td>02</td>\n",
              "      <td>Engineering, Architecture, &amp; Planning Technolo...</td>\n",
              "      <td>...</td>\n",
              "      <td>DEP is an equal opportunity employer with a st...</td>\n",
              "      <td>Click on âApply Nowâ and submit a resume a...</td>\n",
              "      <td>35 hours per week</td>\n",
              "      <td>59-17 Junction Blvd, Corona NY</td>\n",
              "      <td>NaN</td>\n",
              "      <td>New York City residency is generally required ...</td>\n",
              "      <td>09/07/2022</td>\n",
              "      <td>NaN</td>\n",
              "      <td>09/13/2022</td>\n",
              "      <td>08/08/2023</td>\n",
              "    </tr>\n",
              "  </tbody>\n",
              "</table>\n",
              "<p>5 rows × 30 columns</p>\n",
              "</div>\n",
              "    <div class=\"colab-df-buttons\">\n",
              "\n",
              "  <div class=\"colab-df-container\">\n",
              "    <button class=\"colab-df-convert\" onclick=\"convertToInteractive('df-1758c439-c8da-46fa-8dcd-af206aaf594f')\"\n",
              "            title=\"Convert this dataframe to an interactive table.\"\n",
              "            style=\"display:none;\">\n",
              "\n",
              "  <svg xmlns=\"http://www.w3.org/2000/svg\" height=\"24px\" viewBox=\"0 -960 960 960\">\n",
              "    <path d=\"M120-120v-720h720v720H120Zm60-500h600v-160H180v160Zm220 220h160v-160H400v160Zm0 220h160v-160H400v160ZM180-400h160v-160H180v160Zm440 0h160v-160H620v160ZM180-180h160v-160H180v160Zm440 0h160v-160H620v160Z\"/>\n",
              "  </svg>\n",
              "    </button>\n",
              "\n",
              "  <style>\n",
              "    .colab-df-container {\n",
              "      display:flex;\n",
              "      gap: 12px;\n",
              "    }\n",
              "\n",
              "    .colab-df-convert {\n",
              "      background-color: #E8F0FE;\n",
              "      border: none;\n",
              "      border-radius: 50%;\n",
              "      cursor: pointer;\n",
              "      display: none;\n",
              "      fill: #1967D2;\n",
              "      height: 32px;\n",
              "      padding: 0 0 0 0;\n",
              "      width: 32px;\n",
              "    }\n",
              "\n",
              "    .colab-df-convert:hover {\n",
              "      background-color: #E2EBFA;\n",
              "      box-shadow: 0px 1px 2px rgba(60, 64, 67, 0.3), 0px 1px 3px 1px rgba(60, 64, 67, 0.15);\n",
              "      fill: #174EA6;\n",
              "    }\n",
              "\n",
              "    .colab-df-buttons div {\n",
              "      margin-bottom: 4px;\n",
              "    }\n",
              "\n",
              "    [theme=dark] .colab-df-convert {\n",
              "      background-color: #3B4455;\n",
              "      fill: #D2E3FC;\n",
              "    }\n",
              "\n",
              "    [theme=dark] .colab-df-convert:hover {\n",
              "      background-color: #434B5C;\n",
              "      box-shadow: 0px 1px 3px 1px rgba(0, 0, 0, 0.15);\n",
              "      filter: drop-shadow(0px 1px 2px rgba(0, 0, 0, 0.3));\n",
              "      fill: #FFFFFF;\n",
              "    }\n",
              "  </style>\n",
              "\n",
              "    <script>\n",
              "      const buttonEl =\n",
              "        document.querySelector('#df-1758c439-c8da-46fa-8dcd-af206aaf594f button.colab-df-convert');\n",
              "      buttonEl.style.display =\n",
              "        google.colab.kernel.accessAllowed ? 'block' : 'none';\n",
              "\n",
              "      async function convertToInteractive(key) {\n",
              "        const element = document.querySelector('#df-1758c439-c8da-46fa-8dcd-af206aaf594f');\n",
              "        const dataTable =\n",
              "          await google.colab.kernel.invokeFunction('convertToInteractive',\n",
              "                                                    [key], {});\n",
              "        if (!dataTable) return;\n",
              "\n",
              "        const docLinkHtml = 'Like what you see? Visit the ' +\n",
              "          '<a target=\"_blank\" href=https://colab.research.google.com/notebooks/data_table.ipynb>data table notebook</a>'\n",
              "          + ' to learn more about interactive tables.';\n",
              "        element.innerHTML = '';\n",
              "        dataTable['output_type'] = 'display_data';\n",
              "        await google.colab.output.renderOutput(dataTable, element);\n",
              "        const docLink = document.createElement('div');\n",
              "        docLink.innerHTML = docLinkHtml;\n",
              "        element.appendChild(docLink);\n",
              "      }\n",
              "    </script>\n",
              "  </div>\n",
              "\n",
              "\n",
              "<div id=\"df-eeb2dded-bc5a-42b7-9dd5-480f2c23c227\">\n",
              "  <button class=\"colab-df-quickchart\" onclick=\"quickchart('df-eeb2dded-bc5a-42b7-9dd5-480f2c23c227')\"\n",
              "            title=\"Suggest charts.\"\n",
              "            style=\"display:none;\">\n",
              "\n",
              "<svg xmlns=\"http://www.w3.org/2000/svg\" height=\"24px\"viewBox=\"0 0 24 24\"\n",
              "     width=\"24px\">\n",
              "    <g>\n",
              "        <path d=\"M19 3H5c-1.1 0-2 .9-2 2v14c0 1.1.9 2 2 2h14c1.1 0 2-.9 2-2V5c0-1.1-.9-2-2-2zM9 17H7v-7h2v7zm4 0h-2V7h2v10zm4 0h-2v-4h2v4z\"/>\n",
              "    </g>\n",
              "</svg>\n",
              "  </button>\n",
              "\n",
              "<style>\n",
              "  .colab-df-quickchart {\n",
              "    background-color: #E8F0FE;\n",
              "    border: none;\n",
              "    border-radius: 50%;\n",
              "    cursor: pointer;\n",
              "    display: none;\n",
              "    fill: #1967D2;\n",
              "    height: 32px;\n",
              "    padding: 0 0 0 0;\n",
              "    width: 32px;\n",
              "  }\n",
              "\n",
              "  .colab-df-quickchart:hover {\n",
              "    background-color: #E2EBFA;\n",
              "    box-shadow: 0px 1px 2px rgba(60, 64, 67, 0.3), 0px 1px 3px 1px rgba(60, 64, 67, 0.15);\n",
              "    fill: #174EA6;\n",
              "  }\n",
              "\n",
              "  [theme=dark] .colab-df-quickchart {\n",
              "    background-color: #3B4455;\n",
              "    fill: #D2E3FC;\n",
              "  }\n",
              "\n",
              "  [theme=dark] .colab-df-quickchart:hover {\n",
              "    background-color: #434B5C;\n",
              "    box-shadow: 0px 1px 3px 1px rgba(0, 0, 0, 0.15);\n",
              "    filter: drop-shadow(0px 1px 2px rgba(0, 0, 0, 0.3));\n",
              "    fill: #FFFFFF;\n",
              "  }\n",
              "</style>\n",
              "\n",
              "  <script>\n",
              "    async function quickchart(key) {\n",
              "      const charts = await google.colab.kernel.invokeFunction(\n",
              "          'suggestCharts', [key], {});\n",
              "    }\n",
              "    (() => {\n",
              "      let quickchartButtonEl =\n",
              "        document.querySelector('#df-eeb2dded-bc5a-42b7-9dd5-480f2c23c227 button');\n",
              "      quickchartButtonEl.style.display =\n",
              "        google.colab.kernel.accessAllowed ? 'block' : 'none';\n",
              "    })();\n",
              "  </script>\n",
              "</div>\n",
              "    </div>\n",
              "  </div>\n"
            ]
          },
          "metadata": {},
          "execution_count": 3
        }
      ]
    },
    {
      "cell_type": "code",
      "source": [
        "# To get an idea about how many null values in each column & find meaningful columns for the insight\n",
        "\n",
        "df.info()"
      ],
      "metadata": {
        "colab": {
          "base_uri": "https://localhost:8080/"
        },
        "id": "Hc6e3NYgygQ6",
        "outputId": "f5c95ff0-9201-4926-8f42-7f896f80c22d"
      },
      "execution_count": 4,
      "outputs": [
        {
          "output_type": "stream",
          "name": "stdout",
          "text": [
            "<class 'pandas.core.frame.DataFrame'>\n",
            "RangeIndex: 6548 entries, 0 to 6547\n",
            "Data columns (total 30 columns):\n",
            " #   Column                         Non-Null Count  Dtype  \n",
            "---  ------                         --------------  -----  \n",
            " 0   Job ID                         6548 non-null   int64  \n",
            " 1   Agency                         6548 non-null   object \n",
            " 2   Posting Type                   6548 non-null   object \n",
            " 3   # Of Positions                 6548 non-null   int64  \n",
            " 4   Business Title                 6548 non-null   object \n",
            " 5   Civil Service Title            6548 non-null   object \n",
            " 6   Title Classification           6548 non-null   object \n",
            " 7   Title Code No                  6548 non-null   object \n",
            " 8   Level                          6548 non-null   object \n",
            " 9   Job Category                   6548 non-null   object \n",
            " 10  Full-Time/Part-Time indicator  6303 non-null   object \n",
            " 11  Career Level                   6548 non-null   object \n",
            " 12  Salary Range From              6548 non-null   float64\n",
            " 13  Salary Range To                6548 non-null   float64\n",
            " 14  Salary Frequency               6548 non-null   object \n",
            " 15  Work Location                  6548 non-null   object \n",
            " 16  Division/Work Unit             6548 non-null   object \n",
            " 17  Job Description                6548 non-null   object \n",
            " 18  Minimum Qual Requirements      6511 non-null   object \n",
            " 19  Preferred Skills               5452 non-null   object \n",
            " 20  Additional Information         5127 non-null   object \n",
            " 21  To Apply                       6548 non-null   object \n",
            " 22  Hours/Shift                    2578 non-null   object \n",
            " 23  Work Location 1                3168 non-null   object \n",
            " 24  Recruitment Contact            0 non-null      float64\n",
            " 25  Residency Requirement          6548 non-null   object \n",
            " 26  Posting Date                   6548 non-null   object \n",
            " 27  Post Until                     2196 non-null   object \n",
            " 28  Posting Updated                6548 non-null   object \n",
            " 29  Process Date                   6548 non-null   object \n",
            "dtypes: float64(3), int64(2), object(25)\n",
            "memory usage: 1.5+ MB\n"
          ]
        }
      ]
    },
    {
      "cell_type": "markdown",
      "source": [
        "# Let's find how many jobs are open to the public(External Job Postings) and How many are internal"
      ],
      "metadata": {
        "id": "ekVcYEZULhLN"
      }
    },
    {
      "cell_type": "code",
      "source": [
        "df['Posting Type'].value_counts().plot(kind='bar',color=sns.color_palette())\n",
        "plt.title(\"Total Job Count based on Posting Type\")\n",
        "plt.ylabel('Job count')\n",
        "plt.xlabel('Posting Type')\n",
        "plt.show()"
      ],
      "metadata": {
        "colab": {
          "base_uri": "https://localhost:8080/",
          "height": 515
        },
        "id": "SsvOGHqrpDIZ",
        "outputId": "77405cdd-0555-469a-f8fd-aaa376222dae"
      },
      "execution_count": 5,
      "outputs": [
        {
          "output_type": "display_data",
          "data": {
            "text/plain": [
              "<Figure size 640x480 with 1 Axes>"
            ],
            "image/png": "[encoded data removed]"
          },
          "metadata": {}
        }
      ]
    },
    {
      "cell_type": "markdown",
      "source": [
        "# We are interested to find out the top 7 Agencies that has the most job postings"
      ],
      "metadata": {
        "id": "K0jvzAM4NZg8"
      }
    },
    {
      "cell_type": "code",
      "source": [
        "agency = df['Agency'].value_counts()\n",
        "print(agency)"
      ],
      "metadata": {
        "colab": {
          "base_uri": "https://localhost:8080/"
        },
        "id": "-DL4hO8gM_7b",
        "outputId": "1ff0e8bc-390f-4cf9-d0ec-766a19cbe721"
      },
      "execution_count": 6,
      "outputs": [
        {
          "output_type": "stream",
          "name": "stdout",
          "text": [
            "DEPT OF HEALTH/MENTAL HYGIENE     966\n",
            "DEPT OF ENVIRONMENT PROTECTION    864\n",
            "HRA/DEPT OF SOCIAL SERVICES       690\n",
            "DEPARTMENT OF TRANSPORTATION      491\n",
            "NYC HOUSING AUTHORITY             344\n",
            "DEPT OF DESIGN & CONSTRUCTION     312\n",
            "DEPT OF PARKS & RECREATION        241\n",
            "POLICE DEPARTMENT                 210\n",
            "LAW DEPARTMENT                    189\n",
            "DEPARTMENT OF CORRECTION          186\n",
            "HOUSING PRESERVATION & DVLPMNT    180\n",
            "OFFICE OF MANAGEMENT & BUDGET     149\n",
            "DEPT OF YOUTH & COMM DEV SRVS     142\n",
            "TAXI & LIMOUSINE COMMISSION       133\n",
            "ADMIN FOR CHILDREN'S SVCS         129\n",
            "FIRE DEPARTMENT                   127\n",
            "OFFICE OF THE COMPTROLLER         117\n",
            "FINANCIAL INFO SVCS AGENCY        115\n",
            "DEPT. OF HOMELESS SERVICES         96\n",
            "BRONX DISTRICT ATTORNEY            87\n",
            "DEPT OF CITYWIDE ADMIN SVCS        81\n",
            "ADMIN TRIALS AND HEARINGS          63\n",
            "DEPARTMENT OF INVESTIGATION        56\n",
            "DEPARTMENT OF CITY PLANNING        48\n",
            "DEPARTMENT OF BUILDINGS            44\n",
            "CONSUMER AND WORKER PROTECTION     42\n",
            "OFFICE OF EMERGENCY MANAGEMENT     40\n",
            "HUMAN RIGHTS COMMISSION            36\n",
            "DEPARTMENT FOR THE AGING           36\n",
            "DEPARTMENT OF FINANCE              30\n",
            "NYC EMPLOYEES RETIREMENT SYS       26\n",
            "DEPARTMENT OF BUSINESS SERV.       22\n",
            "MAYORS OFFICE OF CONTRACT SVCS     22\n",
            "OFFICE OF LABOR RELATIONS          22\n",
            "DISTRICT ATTORNEY RICHMOND COU     20\n",
            "OFF OF PAYROLL ADMINISTRATION      20\n",
            "CAMPAIGN FINANCE BOARD             18\n",
            "TECHNOLOGY & INNOVATION            17\n",
            "DEPARTMENT OF SANITATION           16\n",
            "DEPARTMENT OF PROBATION            16\n",
            "BUSINESS INTEGRITY COMMISSION      14\n",
            "BOARD OF CORRECTION                12\n",
            "BOROUGH PRESIDENT-BRONX            10\n",
            "CIVILIAN COMPLAINT REVIEW BD       10\n",
            "NYC POLICE PENSION FUND             8\n",
            "TEACHERS RETIREMENT SYSTEM          7\n",
            "DISTRICT ATTORNEY KINGS COUNTY      6\n",
            "LANDMARKS PRESERVATION COMM         4\n",
            "PRESIDENT BOROUGH OF MANHATTAN      4\n",
            "DEPT OF RECORDS & INFO SERVICE      4\n",
            "CULTURAL AFFAIRS                    4\n",
            "PUBLIC ADMINISTRATOR-NEW YORK       4\n",
            "MUNICIPAL WATER FIN AUTHORITY       4\n",
            "TAX COMMISSION                      2\n",
            "OFFICE OF THE ACTUARY               2\n",
            "CIVIL SERVICE COMMISSION            2\n",
            "NYC DEPT OF VETERANS' SERVICES      2\n",
            "BRONX COMMUNITY BOARD #7            2\n",
            "MANHATTAN COMMUNITY BOARD #1        2\n",
            "BOROUGH PRESIDENT-QUEENS            2\n",
            "Name: Agency, dtype: int64\n"
          ]
        }
      ]
    },
    {
      "cell_type": "code",
      "source": [
        "external_counts = df[df['Posting Type'] == 'External']['Agency'].value_counts()\n",
        "\n",
        "# Print the count of external postings for each agency\n",
        "print(external_counts)"
      ],
      "metadata": {
        "colab": {
          "base_uri": "https://localhost:8080/"
        },
        "id": "uipRyyz4QZD3",
        "outputId": "5d8d24eb-7ee9-42f2-dbe4-d7e62b96d807"
      },
      "execution_count": 7,
      "outputs": [
        {
          "output_type": "stream",
          "name": "stdout",
          "text": [
            "DEPT OF HEALTH/MENTAL HYGIENE     472\n",
            "DEPT OF ENVIRONMENT PROTECTION    398\n",
            "HRA/DEPT OF SOCIAL SERVICES       344\n",
            "DEPARTMENT OF TRANSPORTATION      234\n",
            "NYC HOUSING AUTHORITY             174\n",
            "DEPT OF DESIGN & CONSTRUCTION     156\n",
            "DEPARTMENT OF CORRECTION           89\n",
            "HOUSING PRESERVATION & DVLPMNT     88\n",
            "LAW DEPARTMENT                     82\n",
            "DEPT OF PARKS & RECREATION         80\n",
            "OFFICE OF MANAGEMENT & BUDGET      75\n",
            "DEPT OF YOUTH & COMM DEV SRVS      72\n",
            "TAXI & LIMOUSINE COMMISSION        66\n",
            "ADMIN FOR CHILDREN'S SVCS          62\n",
            "FIRE DEPARTMENT                    57\n",
            "FINANCIAL INFO SVCS AGENCY         57\n",
            "OFFICE OF THE COMPTROLLER          53\n",
            "DEPT. OF HOMELESS SERVICES         48\n",
            "BRONX DISTRICT ATTORNEY            43\n",
            "DEPT OF CITYWIDE ADMIN SVCS        41\n",
            "POLICE DEPARTMENT                  32\n",
            "ADMIN TRIALS AND HEARINGS          31\n",
            "DEPARTMENT OF INVESTIGATION        28\n",
            "DEPARTMENT OF CITY PLANNING        23\n",
            "DEPARTMENT OF BUILDINGS            22\n",
            "CONSUMER AND WORKER PROTECTION     21\n",
            "OFFICE OF EMERGENCY MANAGEMENT     20\n",
            "HUMAN RIGHTS COMMISSION            18\n",
            "DEPARTMENT FOR THE AGING           18\n",
            "DEPARTMENT OF FINANCE              15\n",
            "NYC EMPLOYEES RETIREMENT SYS       13\n",
            "OFFICE OF LABOR RELATIONS          11\n",
            "MAYORS OFFICE OF CONTRACT SVCS     11\n",
            "DEPARTMENT OF BUSINESS SERV.       11\n",
            "DISTRICT ATTORNEY RICHMOND COU     10\n",
            "OFF OF PAYROLL ADMINISTRATION      10\n",
            "CAMPAIGN FINANCE BOARD              9\n",
            "TECHNOLOGY & INNOVATION             8\n",
            "DEPARTMENT OF SANITATION            8\n",
            "DEPARTMENT OF PROBATION             8\n",
            "BUSINESS INTEGRITY COMMISSION       7\n",
            "BOARD OF CORRECTION                 6\n",
            "BOROUGH PRESIDENT-BRONX             5\n",
            "CIVILIAN COMPLAINT REVIEW BD        4\n",
            "DISTRICT ATTORNEY KINGS COUNTY      3\n",
            "TEACHERS RETIREMENT SYSTEM          3\n",
            "MUNICIPAL WATER FIN AUTHORITY       2\n",
            "PUBLIC ADMINISTRATOR-NEW YORK       2\n",
            "CULTURAL AFFAIRS                    2\n",
            "DEPT OF RECORDS & INFO SERVICE      2\n",
            "NYC POLICE PENSION FUND             2\n",
            "PRESIDENT BOROUGH OF MANHATTAN      2\n",
            "LANDMARKS PRESERVATION COMM         2\n",
            "CIVIL SERVICE COMMISSION            1\n",
            "MANHATTAN COMMUNITY BOARD #1        1\n",
            "NYC DEPT OF VETERANS' SERVICES      1\n",
            "OFFICE OF THE ACTUARY               1\n",
            "BRONX COMMUNITY BOARD #7            1\n",
            "BOROUGH PRESIDENT-QUEENS            1\n",
            "TAX COMMISSION                      1\n",
            "Name: Agency, dtype: int64\n"
          ]
        }
      ]
    },
    {
      "cell_type": "code",
      "source": [
        "#top 5 agencies providing highest job vacancies open to general public\n",
        "top_5_external_agencies = external_counts.head(5)\n",
        "colors = ['blue', 'green', 'red', 'purple', 'orange']\n",
        "top_5_external_agencies.plot(kind='barh',alpha=0.6, figsize=(12,15), color=colors)\n",
        "plt.show()"
      ],
      "metadata": {
        "colab": {
          "base_uri": "https://localhost:8080/",
          "height": 1000
        },
        "id": "9ttXQHDORHBt",
        "outputId": "f58ee1f9-8954-4b3c-b411-3aabd99ba8f1"
      },
      "execution_count": 8,
      "outputs": [
        {
          "output_type": "display_data",
          "data": {
            "text/plain": [
              "<Figure size 1200x1500 with 1 Axes>"
            ],
            "image/png": "[encoded data removed]"
          },
          "metadata": {}
        }
      ]
    },
    {
      "cell_type": "code",
      "source": [
        "label=['min_salary','max_salary']\n",
        "def salary_based_on_job_category(job,salary_freq):\n",
        "     sal_freq_data=df[df['Salary Frequency']==salary_freq]\n",
        "     job_cat_data=sal_freq_data[sal_freq_data['Job Category']==job]\n",
        "     min_salary=job_cat_data['Salary Range From']\n",
        "     max_salary=job_cat_data['Salary Range To']\n",
        "     avg_max_salary=sum(max_salary)/len(max_salary)\n",
        "     print(\"Count of \"+salary_freq+\" Job position in (\"+job+\") is :\",len(max_salary))\n",
        "     avg_min_salary=sum(min_salary)/len(min_salary)\n",
        "\n",
        "         # Specify colors for the bars\n",
        "     colors = ['blue', 'green']\n",
        "     plt.bar(label,[avg_min_salary,avg_max_salary], color = colors)\n",
        "     plt.title(\"Average Min Max \"+salary_freq+\" Salary for \"+job)\n",
        "     plt.show()\n",
        "     print(\"Minimum Avg salary for the category:\",avg_min_salary)\n",
        "     print(\"Maximum Avg salary for the category:\",avg_max_salary)"
      ],
      "metadata": {
        "id": "S0YKiQ3YpS8X"
      },
      "execution_count": 9,
      "outputs": []
    },
    {
      "cell_type": "code",
      "source": [
        "salary_based_on_job_category('Engineering, Architecture, & Planning','Annual')"
      ],
      "metadata": {
        "colab": {
          "base_uri": "https://localhost:8080/",
          "height": 504
        },
        "id": "YT2ebXwlpkcp",
        "outputId": "07023e18-493b-45ea-8bd5-b2df03df7f46"
      },
      "execution_count": 10,
      "outputs": [
        {
          "output_type": "stream",
          "name": "stdout",
          "text": [
            "Count of Annual Job position in (Engineering, Architecture, & Planning) is : 693\n"
          ]
        },
        {
          "output_type": "display_data",
          "data": {
            "text/plain": [
              "<Figure size 640x480 with 1 Axes>"
            ],
            "image/png": "[encoded data removed]"
          },
          "metadata": {}
        },
        {
          "output_type": "stream",
          "name": "stdout",
          "text": [
            "Minimum Avg salary for the category: 69360.82251082252\n",
            "Maximum Avg salary for the category: 101240.24242424243\n"
          ]
        }
      ]
    },
    {
      "cell_type": "code",
      "source": [
        "salary_based_on_job_category('Engineering, Architecture, & Planning','Hourly')"
      ],
      "metadata": {
        "colab": {
          "base_uri": "https://localhost:8080/",
          "height": 504
        },
        "id": "tkGmJ1VmptgE",
        "outputId": "eda23c42-d97c-4e00-ea11-b66a19f3d343"
      },
      "execution_count": 11,
      "outputs": [
        {
          "output_type": "stream",
          "name": "stdout",
          "text": [
            "Count of Hourly Job position in (Engineering, Architecture, & Planning) is : 28\n"
          ]
        },
        {
          "output_type": "display_data",
          "data": {
            "text/plain": [
              "<Figure size 640x480 with 1 Axes>"
            ],
            "image/png": "[encoded data removed]"
          },
          "metadata": {}
        },
        {
          "output_type": "stream",
          "name": "stdout",
          "text": [
            "Minimum Avg salary for the category: 19.12885714285714\n",
            "Maximum Avg salary for the category: 23.397835714285716\n"
          ]
        }
      ]
    },
    {
      "cell_type": "code",
      "source": [
        "external_title_vacancy = df[df['Posting Type'] == 'External']['Civil Service Title'].value_counts()\n",
        "\n",
        "# Print the count of external postings for each agency\n",
        "print(external_title_vacancy)"
      ],
      "metadata": {
        "colab": {
          "base_uri": "https://localhost:8080/"
        },
        "id": "l9pTP0D8TVuo",
        "outputId": "89128756-3094-4fe4-c00a-2c98c176c06d"
      },
      "execution_count": 12,
      "outputs": [
        {
          "output_type": "stream",
          "name": "stdout",
          "text": [
            "COMMUNITY COORDINATOR             217\n",
            "CITY RESEARCH SCIENTIST           174\n",
            "CLERICAL ASSOCIATE                107\n",
            "PRINCIPAL ADMINISTRATIVE ASSOC    106\n",
            "AGENCY ATTORNEY                    96\n",
            "                                 ... \n",
            "DECEDENT PROPERTY AGENT             1\n",
            "AUTO BODY WORKER                    1\n",
            "CITY VETERINARIAN (PART-TIME)       1\n",
            "ASST COMMISSIONER FOR POLICY A      1\n",
            "COMPUTER SPECIALIST (OPERATION      1\n",
            "Name: Civil Service Title, Length: 427, dtype: int64\n"
          ]
        }
      ]
    },
    {
      "cell_type": "code",
      "source": [
        "top_5_vacancy_titles = external_title_vacancy.head(5)\n",
        "colors = ['yellow', 'cyan', 'black', 'magenta', 'navy']\n",
        "top_5_vacancy_titles.plot(kind='bar',alpha=0.6, figsize=(12,15), color=colors)\n",
        "plt.show()"
      ],
      "metadata": {
        "colab": {
          "base_uri": "https://localhost:8080/",
          "height": 1000
        },
        "id": "MN8nxS1FU8ei",
        "outputId": "c8d82b55-eb53-4acb-848e-004a28c4a1aa"
      },
      "execution_count": 13,
      "outputs": [
        {
          "output_type": "display_data",
          "data": {
            "text/plain": [
              "<Figure size 1200x1500 with 1 Axes>"
            ],
            "image/png": "[encoded data removed]"
          },
          "metadata": {}
        }
      ]
    },
    {
      "cell_type": "markdown",
      "source": [
        "# To get an instance of original dataframe df and divide the Job Postings as Internal & External"
      ],
      "metadata": {
        "id": "0xM5w0C1-jCz"
      }
    },
    {
      "cell_type": "code",
      "source": [
        "filtered_df = df[df['Posting Type'].isin(['Internal', 'External'])]"
      ],
      "metadata": {
        "id": "3Zei-ncO6em-"
      },
      "execution_count": 14,
      "outputs": []
    },
    {
      "cell_type": "code",
      "source": [
        " grouped = filtered_df.groupby('Agency')['Posting Type'].value_counts().unstack()\n",
        "\n",
        "# Another Syntax could be if using Original Dataframe instead of instance filtered_df\n",
        "# grouped = df[df['Posting Type'].isin(['Internal', 'External'])].groupby('Agency')['Posting Type'].value_counts().unstack(fill_value=0)\n",
        "\n",
        "print(grouped)"
      ],
      "metadata": {
        "colab": {
          "base_uri": "https://localhost:8080/"
        },
        "id": "WPn2dsLc6f9o",
        "outputId": "b37970e7-a394-426f-f14e-cb0715dd6728"
      },
      "execution_count": 15,
      "outputs": [
        {
          "output_type": "stream",
          "name": "stdout",
          "text": [
            "Posting Type                    External  Internal\n",
            "Agency                                            \n",
            "ADMIN FOR CHILDREN'S SVCS             62        67\n",
            "ADMIN TRIALS AND HEARINGS             31        32\n",
            "BOARD OF CORRECTION                    6         6\n",
            "BOROUGH PRESIDENT-BRONX                5         5\n",
            "BOROUGH PRESIDENT-QUEENS               1         1\n",
            "BRONX COMMUNITY BOARD #7               1         1\n",
            "BRONX DISTRICT ATTORNEY               43        44\n",
            "BUSINESS INTEGRITY COMMISSION          7         7\n",
            "CAMPAIGN FINANCE BOARD                 9         9\n",
            "CIVIL SERVICE COMMISSION               1         1\n",
            "CIVILIAN COMPLAINT REVIEW BD           4         6\n",
            "CONSUMER AND WORKER PROTECTION        21        21\n",
            "CULTURAL AFFAIRS                       2         2\n",
            "DEPARTMENT FOR THE AGING              18        18\n",
            "DEPARTMENT OF BUILDINGS               22        22\n",
            "DEPARTMENT OF BUSINESS SERV.          11        11\n",
            "DEPARTMENT OF CITY PLANNING           23        25\n",
            "DEPARTMENT OF CORRECTION              89        97\n",
            "DEPARTMENT OF FINANCE                 15        15\n",
            "DEPARTMENT OF INVESTIGATION           28        28\n",
            "DEPARTMENT OF PROBATION                8         8\n",
            "DEPARTMENT OF SANITATION               8         8\n",
            "DEPARTMENT OF TRANSPORTATION         234       257\n",
            "DEPT OF CITYWIDE ADMIN SVCS           41        40\n",
            "DEPT OF DESIGN & CONSTRUCTION        156       156\n",
            "DEPT OF ENVIRONMENT PROTECTION       398       466\n",
            "DEPT OF HEALTH/MENTAL HYGIENE        472       494\n",
            "DEPT OF PARKS & RECREATION            80       161\n",
            "DEPT OF RECORDS & INFO SERVICE         2         2\n",
            "DEPT OF YOUTH & COMM DEV SRVS         72        70\n",
            "DEPT. OF HOMELESS SERVICES            48        48\n",
            "DISTRICT ATTORNEY KINGS COUNTY         3         3\n",
            "DISTRICT ATTORNEY RICHMOND COU        10        10\n",
            "FINANCIAL INFO SVCS AGENCY            57        58\n",
            "FIRE DEPARTMENT                       57        70\n",
            "HOUSING PRESERVATION & DVLPMNT        88        92\n",
            "HRA/DEPT OF SOCIAL SERVICES          344       346\n",
            "HUMAN RIGHTS COMMISSION               18        18\n",
            "LANDMARKS PRESERVATION COMM            2         2\n",
            "LAW DEPARTMENT                        82       107\n",
            "MANHATTAN COMMUNITY BOARD #1           1         1\n",
            "MAYORS OFFICE OF CONTRACT SVCS        11        11\n",
            "MUNICIPAL WATER FIN AUTHORITY          2         2\n",
            "NYC DEPT OF VETERANS' SERVICES         1         1\n",
            "NYC EMPLOYEES RETIREMENT SYS          13        13\n",
            "NYC HOUSING AUTHORITY                174       170\n",
            "NYC POLICE PENSION FUND                2         6\n",
            "OFF OF PAYROLL ADMINISTRATION         10        10\n",
            "OFFICE OF EMERGENCY MANAGEMENT        20        20\n",
            "OFFICE OF LABOR RELATIONS             11        11\n",
            "OFFICE OF MANAGEMENT & BUDGET         75        74\n",
            "OFFICE OF THE ACTUARY                  1         1\n",
            "OFFICE OF THE COMPTROLLER             53        64\n",
            "POLICE DEPARTMENT                     32       178\n",
            "PRESIDENT BOROUGH OF MANHATTAN         2         2\n",
            "PUBLIC ADMINISTRATOR-NEW YORK          2         2\n",
            "TAX COMMISSION                         1         1\n",
            "TAXI & LIMOUSINE COMMISSION           66        67\n",
            "TEACHERS RETIREMENT SYSTEM             3         4\n",
            "TECHNOLOGY & INNOVATION                8         9\n"
          ]
        }
      ]
    },
    {
      "cell_type": "code",
      "source": [
        "# Since the Values in the column 'Residency Requirement', has multiple statements to convey if NY state residency is required, not required, or needed after sometime, there are 95 different values\n",
        "df['Residency Requirement'].nunique()"
      ],
      "metadata": {
        "colab": {
          "base_uri": "https://localhost:8080/"
        },
        "id": "APBSDlleAvUj",
        "outputId": "02b88ccc-3369-48fb-f4fc-ba303dc024c8"
      },
      "execution_count": 16,
      "outputs": [
        {
          "output_type": "execute_result",
          "data": {
            "text/plain": [
              "95"
            ]
          },
          "metadata": {},
          "execution_count": 16
        }
      ]
    },
    {
      "cell_type": "code",
      "source": [
        "# To visualize the statements used to depict 3 conditions,NY state residency is required, not required, or needed after sometime, multiple statements need to be converted into just 3\n",
        "df['Residency Requirement'].unique()"
      ],
      "metadata": {
        "colab": {
          "base_uri": "https://localhost:8080/"
        },
        "id": "MVoDTRUw_ibE",
        "outputId": "09cf9202-2235-4b69-b816-efec30efa01a"
      },
      "execution_count": 17,
      "outputs": [
        {
          "output_type": "execute_result",
          "data": {
            "text/plain": [
              "array(['Residency in New York City, Nassau, Orange, Rockland, Suffolk, Putnam or Westchester counties required for employees with over two years of city service. New York City residency required within 90 days of hire for all other candidates.',\n",
              "       'New York City residency is not required for this position.',\n",
              "       'New York State Residency is REQUIRED on the first day of employment.',\n",
              "       'New York City Residency is not required for this position',\n",
              "       'New York City residency is generally required within 90 days of appointment. However, City Employees in certain titles who have worked for the City for 2 continuous years may also be eligible to reside in Nassau, Suffolk, Putnam, Westchester, Rockland, or Orange County. To determine if the residency requirement applies to you, please discuss with the agency representative at the time of interview.',\n",
              "       'New York City Residency is not required for this position.',\n",
              "       'NYCHA has no residency requirements.',\n",
              "       'New York City residency is generally required within 90 days of appointment. However, City Employees in certain titles who have worked for the City for 2 continuous years may also be eligible to reside in Nassau, Suffolk, Putnam, Westchester, Rockland, or Orange County. To determine if the residency requirement applies to you, please discuss with the agency representative at the time of interview.  See DCAS Directive No. 2020-2 (https://www1.nyc.gov/assets/dcas/downloads/pdf/agencies/directive_2020_2.pdf) regarding residency requirement during the COVID-19 emergency.',\n",
              "       'This position is exempt from NYC residency requirements.',\n",
              "       'Residency in New York City, Nassau, Orange, Rockland, Suffolk, Putnam, or Westchester counties required for employees with over two years of city service.  New York City residency required within 90 days of hire for all other candidates.',\n",
              "       'NYCHA has no Residency Requirements.',\n",
              "       'New York City Residency Is Not Required For This Position.',\n",
              "       'NYC Residency is not required for this position.',\n",
              "       'City Residency is not required for this position.',\n",
              "       'City Residency is not required for this position',\n",
              "       '6/13New York City Residency is not required for this position.',\n",
              "       'New York City residency is not required.',\n",
              "       'NEW YORK CITY RESIDENCY IS NOT REQUIRED FOR THIS TITLE..',\n",
              "       'Residency in New York City, Nassau, Orange, Rockland, Suffolk, Putnam or Westchester counties required for employees with over two years of city service.  New York City residency required for all other candidates.',\n",
              "       'New York City residency is not required',\n",
              "       'Good Afternoon NYCHA has no residency requirements.',\n",
              "       'New York City residency is generally required within 90 days of appointment. However, City Employees in certain titles who have worked for the City for 2 continuous years may also be eligible to reside in Nassau, Suffolk, Putnam, Westchester, Rockland, or Orange County. To determine if the residency requirement applies to you, please discuss with the agency representative at the time of interview',\n",
              "       'There is no NYC Residency requirement for this position.',\n",
              "       'New York City Residency is not required for this position; however, you must reside in New York State.',\n",
              "       'There is no residency requirement for this position.',\n",
              "       'This is a full time in-person position at OMBâ\\x80\\x99s offices at 255 Greenwich Street',\n",
              "       'New York City Residency is required for this position.',\n",
              "       \"We appreciate your interest in a position with the Bronx District Attorney's Office. Click Apply for Job to apply.  **LOAN FORGIVENESS: The federal government provides student loan forgiveness through its Public Service Loan Forgiveness Program (PLF) to all qualifying public service employees. Working with DCWP qualifies you as a public service employee and you may be able to take advantage of this program while working full-time and meeting the program's other requirements. Please visit the Public Service Loan Forgiveness Program site to view the eligibility requirements: https://studentaid.gov/manage-loans/forgiveness-cancellation/public-service.\",\n",
              "       'New York City residency is generally required within 90 days of appointment. However, City Employees in certain titles who have worked for the City for 2 continuous years may also be eligible  to reside in Nassau, Suffolk, Putnam, Westchester, Rockland, or Orange County. To determine if the residency requirement applies to you, please discuss with the agency representative at the time of interview.',\n",
              "       'NYC Residency is not required for this title.', 'TBD',\n",
              "       'New York City residency is required within 90 days of appointment. However, City employees in certain titles who have worked for the City 2 continuous years may also be eligible to reside in Nassau, Suffolk, Putnam, Westchester, Rockland or Orange County.',\n",
              "       'Residency in New York City, Nassau, Orange, Rockland, Suffolk, Putnam, or Westchester counties required for employees with over two years of city service. New York City residency is required within 90 days of hire for all other candidates.',\n",
              "       'NYC residency is not required.',\n",
              "       'Residency in New York City, Nassau, Orange, Rockland, Suffolk, Putnam, or Westchester counties required for employees with over two years of city service. New York City residency required within 90 days of hire for all other candidates.',\n",
              "       'New York City residency is generally required within 90 days of appointment. However, City Employees in certain titles who have worked for the City for 2 continuous years may also be eligible to reside in Nassau, Suffolk, Putnam, Westchester, Rockland, or Orange County.   Due to the current State of Emergency in the City of New York for the COVID-19 pandemic, the Laboratory Microbiologist and Associate Laboratory Microbiologist titles do not have a residency requirement. When the State of Emergency ends, candidates have 6 months to move to New York City to comply with the residency requirement. AMENDED **  To determine if the residency requirement applies to you, please discuss with the agency representative at the time of interview.',\n",
              "       'New York City residency is generally required within 90 days of appointment.  However, City employees in certain titles who have worked for the City for 2 continuous years may also be eligible to reside in Nassau, Suffolk, Putnam, Westchester, Rockland, or Orange County.  To determine if the residency requirement applies to you, please discuss with the agency representative at the time of the interview.',\n",
              "       'NEW YORK CITY RESIDENCY IS NOT REQUIRED FOR THIS TITLE.',\n",
              "       'NYC RESIDENCY IS NOT REQUIRED FOR THIS TITLE.',\n",
              "       'Residency in New York City, Nassau, Orange, Rockland, Suffolk, Putnam or Westchester counties required for employees with over two years of city service.  New York City residency required within 90 days of hire for all other candidates.',\n",
              "       \"The City of New York is an inclusive equal opportunity employer committed to recruiting and retaining a diverse workforce and providing a work environment that is free from discrimination and harassment based upon any legally protected status or protected characteristic, including but not limited to an individual's sex, race, color, ethnicity, national origin, age, religion, disability, sexual orientation, veteran status, gender identity, or pregnancy.\",\n",
              "       'Residency in New York City, Nassau, Orange, Rockland, Suffolk, Putnam or Westchester counties required for employees with over two years of city service. New York City residency required for all other candidates.',\n",
              "       'New York City Residency is generally required within 90 days of appointment.  however, City Employees in certain titles who have worked for the City for 2 continuous years may also be eligible to reside in Nassau, Suffolk, Putnam, Westchester, Rockland, or Orange County.  To determine if the residency requirements applies to you, please discuss with the agency representative at the time of the interview.',\n",
              "       'New York City residency is generally required within 90 days of appointment. However, City Employees  in certain titles who have worked for the City for 2 continuous years may also be eligible to reside in  Nassau, Suffolk, Putnam, Westchester, Rockland, or Orange County. To determine if the residency  requirement applies to you, please discuss with the agency representative at the time of interview',\n",
              "       'NYC residency is not required for this position.',\n",
              "       'New York State residency is required for this position.',\n",
              "       'New York City residency is generally required within 90 days of appointment. However, City Employees in certain titles who have worked for the City for 2 continuous years may also be eligible to reside in Nassau, Suffolk, Putnam, Westchester, Rockland, or Orange County. To determine if the residency requirement applies to you, please discuss with the agency representative at the time of interview.   ADDITIONAL INFORMATION  Submission of an application package is not a guarantee that you will receive an interview.  Only those candidates under consideration will be contacted.  As a current or prospective employee of the City of New York, you may be eligible for federal loan forgiveness programs and state repayment assistance programs. Please review the notice to see if you may be eligible for programs and how to apply at nyc.gov/studentloans.',\n",
              "       'Residency in New York City, Nassau, Orange, Rockland, Suffolk, Putnam or Westchester counties required for employees with over two years of city service. New York City residency required for all other candidate within 90 days of hire.',\n",
              "       'New York City residency is generally required for this position.',\n",
              "       'There is no residency requirement for this title.',\n",
              "       'New York State residency is required.',\n",
              "       'New York City residency is required.',\n",
              "       'City residency is not required for this position.',\n",
              "       'New York City residency is generally required within 90 days of appointment. However, City Employees in certain titles who have worked for the City for 2 continuous years may also be eligible to reside in Nassau, Suffolk, Putnam, Westchester, Rockland, or Orange County. To determine if the residency requirement applies to you, please discuss with the agency representative at the time of interview.  New York City Residency is not required for this position.',\n",
              "       'New York City residency is not required for this title **',\n",
              "       'A person serving in a mayoral agency in any of the following civil service titles shall be a resident of the city on the date that he or she assumes such title or shall establish City Residence within ninety days after such date and shall thereafter maintain City residency for as long as he or she serves in such title: agency heads,  including but not limited to Commissioner, First Deputy Commissioner, Executive Deputy Commissioner, Deputy Commissioner, General Counsel, Assistant Deputy Commissioner, Associate Commissioner, Assistant Commissioner.',\n",
              "       'New York City residency is generally required within 90 days of appointment. However, City Employees in certain titles who have worked for the City for 2 continuous years may also be eligible to reside in Nassau, Suffolk, Putnam, Westchester, Rockland, or Orange County. To determine if the residency requirement applies to you, please discuss with the agency representative at the time of interview.  All persons newly hired for employment by any City agency must provide proof of having received at least one dose of an approved COVID-19 vaccine prior to beginning their employment, except for those who obtain an exception due to medical or religious reasons through the reasonable accommodation process.',\n",
              "       'New York City residency is not required for this position, However, you must reside in New York State.',\n",
              "       'New York State Residency is REQUIRED on the first day of employment',\n",
              "       'New York City Residency is not required for this title.',\n",
              "       'NYC Residency is not currently required for this position',\n",
              "       'New York Residency is not required for this title.',\n",
              "       'New York City residency is not required for required for this position.',\n",
              "       'New York City Residency is not required for this position  **Please review the qualifications for Level 1 only for this position**',\n",
              "       'New York City Residency is not required for this position..',\n",
              "       'NYC Residency is not required.',\n",
              "       'The Trust has no residency requirements.',\n",
              "       'New York City residency is currently not required.',\n",
              "       'New York State Residency is REQUIRED on first day of employment.',\n",
              "       'Residency is not a requirement for this position.',\n",
              "       'New York City residency is  required within 90 days of appointment. However, city employees in certain titles who have worked for the City for 2 continuous years may also be eligible to reside in Nassau, Suffolk, Putnam, Westchester, Rockland, or Orange County. To determine if the residency requirement applies to you, please discuss with the agency representative at the time of interview.',\n",
              "       'Residency in New York City, Nassau, Orange, Rockland, Suffolk, Putnam or Westchester counties required for employees with over two years of city service. New York City residency required within 90 days for all other candidates.',\n",
              "       'Residency in New York City, Nassau, Orange, Rockland, Suffolk, Putnam or Westchester counties required for employees with over two years of city service.  New York City residency required for all other candidates within 90 days of hire.',\n",
              "       'New York City residency is not required for this position. However, you must reside in New York State.',\n",
              "       \"New York City residency is generally required within 90 days of appointment. However, City Employees in certain titles who have worked for the City for 2 continuous years may also be eligible to reside in Nassau, Suffolk, Putnam, Westchester, Rockland, or Orange County. To determine if the residency requirement applies to you, please discuss with the agency representative at the time of interview. There isn't a residency requirement for this position.\",\n",
              "       'Residency in New York City, Nassau, Orange, Rockland, Suffolk, Putnam or Westchester counties require for employees with over two years of city service. New York City residency required within 90 days of hire for all other candidates.',\n",
              "       'There is no residency requirements for this title.',\n",
              "       'New York City residency is generally required within 90 days of appointment. However, City Employees in certain titles who have worked for the City for 2 continuous years may also be eligible to reside in Nassau, Suffolk, Putnam, Westchester, Rockland, or Orange County. To determine if the residency requirement applies to you, please discuss with the agency representative at the time of interview.  ** THERE IS NO RESIDENCY REQUIREMENT FOR THIS POSITION**',\n",
              "       'New York City residency is generally required within 90 days of appointment.  However, City Employees in certain titles who have worked for the city for 2 continuous years may also be eligible to reside in Nassau, Suffolk, Putnam, Westchester, Rockland, or Orange County.  To determine if the residency requirement applies to you, please discuss with the agency representative at the time of interview.',\n",
              "       'Except as otherwise provided herein, a person serving in a mayoral agency in any of the following civil service or office titles shall be a resident of the City on the date that he or she assumes such title or shall establish city residence within ninety days after such date and shall thereafter maintain city residency for as long as he or she serves in such title: agency heads, including but not limited to Commissioner, Director and Executive Director, First Deputy Commissioner, Executive Deputy Commissioner, Deputy Commissioner, General Counsel, Borough Commissioner, Assistant Deputy Commissioner, Associate Commissioner, Assistant Commissioner, and other senior level staff titles, identified on a list established pursuant to section 2(b) of this Order.',\n",
              "       'NYC residency is required within 90 days of appointment.',\n",
              "       'Residency in New York City, Nassau, Orange, Rockland, Suffolk, Putnam or Westchester counties required for employees with over two years of city service.  New York City residency required within 90 days of hiring for all other candidates.',\n",
              "       'There is no residency requirement for',\n",
              "       'New York City residency is generally required within 90 days of appointment. However, City Employees in certain titles who have worked for the City for 2 continuous years may also be eligible to reside in Nassau, Suffolk, Putnam, Westchester, Rockland, or Orange County. To determine if the residency requirement applies to you, please discuss with the agency representative at the time of  interview.',\n",
              "       'No Residency Requirement',\n",
              "       'New York State Residency is required for this position.',\n",
              "       'New York City residency is generally required within 90 days of appointment. However, City Employees in certain titles who have worked for the City for 2 continuous years may also be eligible to reside in Nassau, Suffolk, Putnam, Westchester, Rockland, or Orange County. To determine if the residency requirement applies to you, please discuss it with the agency representative at the time of the interview.',\n",
              "       'New York City residency is generally required within 90 days of appointment. However, City Employees in certain titles who have worked for the City for 2 continuous years may also be eligible to reside in Nassau, Suffolk, Putnam, Westchester, Rockland, or  Orange County. To determine if the residency requirement applies to you, please discuss with the agency representative at the time of interview.',\n",
              "       'New York City residency is generally required within 90 days of appointment.',\n",
              "       'New York City residency is generally required within 90 days of appointment. City Employees in certain titles who have worked for 2 continuous years may also be able to reside in Nassau, Suffolk, Putnam, Westchester, Rockland, or Orange County. To determine if the residency requirement applies to you, please discuss with the agency representative at the time of interview.',\n",
              "       'New York City residency is not required for this position; however, you must reside in New York State.',\n",
              "       'The is no residency requirement for this position.',\n",
              "       \"New York City Residency is not required for this position.  Minimum Qualification Requirements:  Must possess one of the following valid New York State licenses or certification: Registered Pharmacist Registered Professional Nurse Registered Physician's Assistant Certified Nurse Practitioner  **The licenses and/or certification listed above must be maintained for the duration of employment.\",\n",
              "       'New York City Residency is not required.',\n",
              "       'New York City residency is generally required within 90 days of appointment. However, City Employees in certain titles who have worked for the City for two continuous years may also be eligible to reside in Nassau, Suffolk, Putnam, Westchester, Rockland, or Orange County. To determine if the residency requirement applies to you, please discuss with the agency representative at the time of interview.'],\n",
              "      dtype=object)"
            ]
          },
          "metadata": {},
          "execution_count": 17
        }
      ]
    },
    {
      "cell_type": "code",
      "source": [
        "# Create a New DataFrame named data that holds all possible values of residency requirement\n",
        "\n",
        "data = {'Residency Requirement': [\n",
        "    'Residency in New York City, Nassau, Orange, Rockland, Suffolk, Putnam or Westchester counties required for employees with over two years of city service. New York City residency required within 90 days of hire for all other candidates.',\n",
        "       'New York City residency is not required for this position.',\n",
        "       'New York State Residency is REQUIRED on the first day of employment.',\n",
        "       'New York City Residency is not required for this position',\n",
        "       'New York City residency is generally required within 90 days of appointment. However, City Employees in certain titles who have worked for the City for 2 continuous years may also be eligible to reside in Nassau, Suffolk, Putnam, Westchester, Rockland, or Orange County. To determine if the residency requirement applies to you, please discuss with the agency representative at the time of interview.',\n",
        "       'New York City Residency is not required for this position.',\n",
        "       'NYCHA has no residency requirements.',\n",
        "       'New York City residency is generally required within 90 days of appointment. However, City Employees in certain titles who have worked for the City for 2 continuous years may also be eligible to reside in Nassau, Suffolk, Putnam, Westchester, Rockland, or Orange County. To determine if the residency requirement applies to you, please discuss with the agency representative at the time of interview.  See DCAS Directive No. 2020-2 (https://www1.nyc.gov/assets/dcas/downloads/pdf/agencies/directive_2020_2.pdf) regarding residency requirement during the COVID-19 emergency.',\n",
        "       'This position is exempt from NYC residency requirements.',\n",
        "       'Residency in New York City, Nassau, Orange, Rockland, Suffolk, Putnam, or Westchester counties required for employees with over two years of city service.  New York City residency required within 90 days of hire for all other candidates.',\n",
        "       'NYCHA has no Residency Requirements.',\n",
        "       'New York City Residency Is Not Required For This Position.',\n",
        "       'NYC Residency is not required for this position.',\n",
        "       'City Residency is not required for this position.',\n",
        "       'City Residency is not required for this position',\n",
        "       '6/13New York City Residency is not required for this position.',\n",
        "       'New York City residency is not required.',\n",
        "       'NEW YORK CITY RESIDENCY IS NOT REQUIRED FOR THIS TITLE..',\n",
        "       'Residency in New York City, Nassau, Orange, Rockland, Suffolk, Putnam or Westchester counties required for employees with over two years of city service.  New York City residency required for all other candidates.',\n",
        "       'New York City residency is not required',\n",
        "       'Good Afternoon NYCHA has no residency requirements.',\n",
        "       'New York City residency is generally required within 90 days of appointment. However, City Employees in certain titles who have worked for the City for 2 continuous years may also be eligible to reside in Nassau, Suffolk, Putnam, Westchester, Rockland, or Orange County. To determine if the residency requirement applies to you, please discuss with the agency representative at the time of interview',\n",
        "       'There is no NYC Residency requirement for this position.',\n",
        "       'New York City Residency is not required for this position; however, you must reside in New York State.',\n",
        "       'There is no residency requirement for this position.',\n",
        "       'This is a full time in-person position at OMBâ\\x80\\x99s offices at 255 Greenwich Street',\n",
        "       'New York City Residency is required for this position.',\n",
        "       \"We appreciate your interest in a position with the Bronx District Attorney's Office. Click Apply for Job to apply.  **LOAN FORGIVENESS: The federal government provides student loan forgiveness through its Public Service Loan Forgiveness Program (PLF) to all qualifying public service employees. Working with DCWP qualifies you as a public service employee and you may be able to take advantage of this program while working full-time and meeting the program's other requirements. Please visit the Public Service Loan Forgiveness Program site to view the eligibility requirements: https://studentaid.gov/manage-loans/forgiveness-cancellation/public-service.\",\n",
        "       'New York City residency is generally required within 90 days of appointment. However, City Employees in certain titles who have worked for the City for 2 continuous years may also be eligible  to reside in Nassau, Suffolk, Putnam, Westchester, Rockland, or Orange County. To determine if the residency requirement applies to you, please discuss with the agency representative at the time of interview.',\n",
        "       'NYC Residency is not required for this title.', 'TBD',\n",
        "       'New York City residency is required within 90 days of appointment. However, City employees in certain titles who have worked for the City 2 continuous years may also be eligible to reside in Nassau, Suffolk, Putnam, Westchester, Rockland or Orange County.',\n",
        "       'Residency in New York City, Nassau, Orange, Rockland, Suffolk, Putnam, or Westchester counties required for employees with over two years of city service. New York City residency is required within 90 days of hire for all other candidates.',\n",
        "       'NYC residency is not required.',\n",
        "       'Residency in New York City, Nassau, Orange, Rockland, Suffolk, Putnam, or Westchester counties required for employees with over two years of city service. New York City residency required within 90 days of hire for all other candidates.',\n",
        "       'New York City residency is generally required within 90 days of appointment. However, City Employees in certain titles who have worked for the City for 2 continuous years may also be eligible to reside in Nassau, Suffolk, Putnam, Westchester, Rockland, or Orange County.   Due to the current State of Emergency in the City of New York for the COVID-19 pandemic, the Laboratory Microbiologist and Associate Laboratory Microbiologist titles do not have a residency requirement. When the State of Emergency ends, candidates have 6 months to move to New York City to comply with the residency requirement. AMENDED **  To determine if the residency requirement applies to you, please discuss with the agency representative at the time of interview.',\n",
        "       'New York City residency is generally required within 90 days of appointment.  However, City employees in certain titles who have worked for the City for 2 continuous years may also be eligible to reside in Nassau, Suffolk, Putnam, Westchester, Rockland, or Orange County.  To determine if the residency requirement applies to you, please discuss with the agency representative at the time of the interview.',\n",
        "       'NEW YORK CITY RESIDENCY IS NOT REQUIRED FOR THIS TITLE.',\n",
        "       'NYC RESIDENCY IS NOT REQUIRED FOR THIS TITLE.',\n",
        "       'Residency in New York City, Nassau, Orange, Rockland, Suffolk, Putnam or Westchester counties required for employees with over two years of city service.  New York City residency required within 90 days of hire for all other candidates.',\n",
        "       \"The City of New York is an inclusive equal opportunity employer committed to recruiting and retaining a diverse workforce and providing a work environment that is free from discrimination and harassment based upon any legally protected status or protected characteristic, including but not limited to an individual's sex, race, color, ethnicity, national origin, age, religion, disability, sexual orientation, veteran status, gender identity, or pregnancy.\",\n",
        "       'Residency in New York City, Nassau, Orange, Rockland, Suffolk, Putnam or Westchester counties required for employees with over two years of city service. New York City residency required for all other candidates.',\n",
        "       'New York City Residency is generally required within 90 days of appointment.  however, City Employees in certain titles who have worked for the City for 2 continuous years may also be eligible to reside in Nassau, Suffolk, Putnam, Westchester, Rockland, or Orange County.  To determine if the residency requirements applies to you, please discuss with the agency representative at the time of the interview.',\n",
        "       'New York City residency is generally required within 90 days of appointment. However, City Employees  in certain titles who have worked for the City for 2 continuous years may also be eligible to reside in  Nassau, Suffolk, Putnam, Westchester, Rockland, or Orange County. To determine if the residency  requirement applies to you, please discuss with the agency representative at the time of interview',\n",
        "       'NYC residency is not required for this position.',\n",
        "       'New York State residency is required for this position.',\n",
        "       'New York City residency is generally required within 90 days of appointment. However, City Employees in certain titles who have worked for the City for 2 continuous years may also be eligible to reside in Nassau, Suffolk, Putnam, Westchester, Rockland, or Orange County. To determine if the residency requirement applies to you, please discuss with the agency representative at the time of interview.   ADDITIONAL INFORMATION  Submission of an application package is not a guarantee that you will receive an interview.  Only those candidates under consideration will be contacted.  As a current or prospective employee of the City of New York, you may be eligible for federal loan forgiveness programs and state repayment assistance programs. Please review the notice to see if you may be eligible for programs and how to apply at nyc.gov/studentloans.',\n",
        "       'Residency in New York City, Nassau, Orange, Rockland, Suffolk, Putnam or Westchester counties required for employees with over two years of city service. New York City residency required for all other candidate within 90 days of hire.',\n",
        "       'New York City residency is generally required for this position.',\n",
        "       'There is no residency requirement for this title.',\n",
        "       'New York State residency is required.',\n",
        "       'New York City residency is required.',\n",
        "       'City residency is not required for this position.',\n",
        "       'New York City residency is generally required within 90 days of appointment. However, City Employees in certain titles who have worked for the City for 2 continuous years may also be eligible to reside in Nassau, Suffolk, Putnam, Westchester, Rockland, or Orange County. To determine if the residency requirement applies to you, please discuss with the agency representative at the time of interview.  New York City Residency is not required for this position.',\n",
        "       'New York City residency is not required for this title **',\n",
        "       'A person serving in a mayoral agency in any of the following civil service titles shall be a resident of the city on the date that he or she assumes such title or shall establish City Residence within ninety days after such date and shall thereafter maintain City residency for as long as he or she serves in such title: agency heads,  including but not limited to Commissioner, First Deputy Commissioner, Executive Deputy Commissioner, Deputy Commissioner, General Counsel, Assistant Deputy Commissioner, Associate Commissioner, Assistant Commissioner.',\n",
        "       'New York City residency is generally required within 90 days of appointment. However, City Employees in certain titles who have worked for the City for 2 continuous years may also be eligible to reside in Nassau, Suffolk, Putnam, Westchester, Rockland, or Orange County. To determine if the residency requirement applies to you, please discuss with the agency representative at the time of interview.  All persons newly hired for employment by any City agency must provide proof of having received at least one dose of an approved COVID-19 vaccine prior to beginning their employment, except for those who obtain an exception due to medical or religious reasons through the reasonable accommodation process.',\n",
        "       'New York City residency is not required for this position, However, you must reside in New York State.',\n",
        "       'New York State Residency is REQUIRED on the first day of employment',\n",
        "       'New York City Residency is not required for this title.',\n",
        "       'NYC Residency is not currently required for this position',\n",
        "       'New York Residency is not required for this title.',\n",
        "       'New York City residency is not required for required for this position.',\n",
        "       'New York City Residency is not required for this position  **Please review the qualifications for Level 1 only for this position**',\n",
        "       'New York City Residency is not required for this position..',\n",
        "       'NYC Residency is not required.',\n",
        "       'The Trust has no residency requirements.',\n",
        "       'New York City residency is currently not required.',\n",
        "       'New York State Residency is REQUIRED on first day of employment.',\n",
        "       'Residency is not a requirement for this position.',\n",
        "       'New York City residency is  required within 90 days of appointment. However, city employees in certain titles who have worked for the City for 2 continuous years may also be eligible to reside in Nassau, Suffolk, Putnam, Westchester, Rockland, or Orange County. To determine if the residency requirement applies to you, please discuss with the agency representative at the time of interview.',\n",
        "       'Residency in New York City, Nassau, Orange, Rockland, Suffolk, Putnam or Westchester counties required for employees with over two years of city service. New York City residency required within 90 days for all other candidates.',\n",
        "       'Residency in New York City, Nassau, Orange, Rockland, Suffolk, Putnam or Westchester counties required for employees with over two years of city service.  New York City residency required for all other candidates within 90 days of hire.',\n",
        "       'New York City residency is not required for this position. However, you must reside in New York State.',\n",
        "       \"New York City residency is generally required within 90 days of appointment. However, City Employees in certain titles who have worked for the City for 2 continuous years may also be eligible to reside in Nassau, Suffolk, Putnam, Westchester, Rockland, or Orange County. To determine if the residency requirement applies to you, please discuss with the agency representative at the time of interview. There isn't a residency requirement for this position.\",\n",
        "       'Residency in New York City, Nassau, Orange, Rockland, Suffolk, Putnam or Westchester counties require for employees with over two years of city service. New York City residency required within 90 days of hire for all other candidates.',\n",
        "       'There is no residency requirements for this title.',\n",
        "       'New York City residency is generally required within 90 days of appointment. However, City Employees in certain titles who have worked for the City for 2 continuous years may also be eligible to reside in Nassau, Suffolk, Putnam, Westchester, Rockland, or Orange County. To determine if the residency requirement applies to you, please discuss with the agency representative at the time of interview.  ** THERE IS NO RESIDENCY REQUIREMENT FOR THIS POSITION**',\n",
        "       'New York City residency is generally required within 90 days of appointment.  However, City Employees in certain titles who have worked for the city for 2 continuous years may also be eligible to reside in Nassau, Suffolk, Putnam, Westchester, Rockland, or Orange County.  To determine if the residency requirement applies to you, please discuss with the agency representative at the time of interview.',\n",
        "       'Except as otherwise provided herein, a person serving in a mayoral agency in any of the following civil service or office titles shall be a resident of the City on the date that he or she assumes such title or shall establish city residence within ninety days after such date and shall thereafter maintain city residency for as long as he or she serves in such title: agency heads, including but not limited to Commissioner, Director and Executive Director, First Deputy Commissioner, Executive Deputy Commissioner, Deputy Commissioner, General Counsel, Borough Commissioner, Assistant Deputy Commissioner, Associate Commissioner, Assistant Commissioner, and other senior level staff titles, identified on a list established pursuant to section 2(b) of this Order.',\n",
        "       'NYC residency is required within 90 days of appointment.',\n",
        "       'Residency in New York City, Nassau, Orange, Rockland, Suffolk, Putnam or Westchester counties required for employees with over two years of city service.  New York City residency required within 90 days of hiring for all other candidates.',\n",
        "       'There is no residency requirement for',\n",
        "       'New York City residency is generally required within 90 days of appointment. However, City Employees in certain titles who have worked for the City for 2 continuous years may also be eligible to reside in Nassau, Suffolk, Putnam, Westchester, Rockland, or Orange County. To determine if the residency requirement applies to you, please discuss with the agency representative at the time of  interview.',\n",
        "       'No Residency Requirement',\n",
        "       'New York State Residency is required for this position.',\n",
        "       'New York City residency is generally required within 90 days of appointment. However, City Employees in certain titles who have worked for the City for 2 continuous years may also be eligible to reside in Nassau, Suffolk, Putnam, Westchester, Rockland, or Orange County. To determine if the residency requirement applies to you, please discuss it with the agency representative at the time of the interview.',\n",
        "       'New York City residency is generally required within 90 days of appointment. However, City Employees in certain titles who have worked for the City for 2 continuous years may also be eligible to reside in Nassau, Suffolk, Putnam, Westchester, Rockland, or  Orange County. To determine if the residency requirement applies to you, please discuss with the agency representative at the time of interview.',\n",
        "       'New York City residency is generally required within 90 days of appointment.',\n",
        "       'New York City residency is generally required within 90 days of appointment. City Employees in certain titles who have worked for 2 continuous years may also be able to reside in Nassau, Suffolk, Putnam, Westchester, Rockland, or Orange County. To determine if the residency requirement applies to you, please discuss with the agency representative at the time of interview.',\n",
        "       'New York City residency is not required for this position; however, you must reside in New York State.',\n",
        "       'The is no residency requirement for this position.',\n",
        "       \"New York City Residency is not required for this position.  Minimum Qualification Requirements:  Must possess one of the following valid New York State licenses or certification: Registered Pharmacist Registered Professional Nurse Registered Physician's Assistant Certified Nurse Practitioner  **The licenses and/or certification listed above must be maintained for the duration of employment.\",\n",
        "       'New York City Residency is not required.',\n",
        "       'New York City residency is generally required within 90 days of appointment. However, City Employees in certain titles who have worked for the City for two continuous years may also be eligible to reside in Nassau, Suffolk, Putnam, Westchester, Rockland, or Orange County. To determine if the residency requirement applies to you, please discuss with the agency representative at the time of interview.'\n",
        "]}\n",
        "\n",
        "# Create DataFrame\n",
        "df2 = pd.DataFrame(data)\n",
        "\n",
        "# Create a function to simplify residency requirement values\n",
        "def simplify_residency(value):\n",
        "    value_lower = value.lower()  # Convert to lowercase for case-insensitive matching\n",
        "\n",
        "    if re.search(r'new york city|new york state|nyc', value_lower):\n",
        "        if re.search(r'not required|no residency', value_lower):\n",
        "            return \"NY Residency Not Required\"\n",
        "        elif re.search(r'required(?! within)', value_lower):\n",
        "            return \"New York Residency Required\"\n",
        "        elif re.search(r'required within', value_lower):\n",
        "            return \"NY Residency Required within Specific Timeframe\"\n",
        "    else:\n",
        "        return \"NY Residency Not Required\"\n",
        "\n",
        "# Apply the function to the 'Residency Requirement' column to create a new column\n",
        "df['Simplified Residency'] = df['Residency Requirement'].apply(simplify_residency)\n",
        "\n",
        "print(df[['Residency Requirement', 'Simplified Residency']])"
      ],
      "metadata": {
        "colab": {
          "base_uri": "https://localhost:8080/"
        },
        "id": "2gtHZG7XDeSP",
        "outputId": "1d61385a-741a-4f3b-ebd8-011e5507e9f5"
      },
      "execution_count": 18,
      "outputs": [
        {
          "output_type": "stream",
          "name": "stdout",
          "text": [
            "                                  Residency Requirement  \\\n",
            "0     Residency in New York City, Nassau, Orange, Ro...   \n",
            "1     New York City residency is not required for th...   \n",
            "2     New York State Residency is REQUIRED on the fi...   \n",
            "3     New York City Residency is not required for th...   \n",
            "4     New York City residency is generally required ...   \n",
            "...                                                 ...   \n",
            "6543  New York City residency is generally required ...   \n",
            "6544  New York City residency is generally required ...   \n",
            "6545  New York City Residency is not required for th...   \n",
            "6546  New York City Residency is not required for th...   \n",
            "6547  New York City residency is generally required ...   \n",
            "\n",
            "                                 Simplified Residency  \n",
            "0                         New York Residency Required  \n",
            "1                           NY Residency Not Required  \n",
            "2                         New York Residency Required  \n",
            "3                           NY Residency Not Required  \n",
            "4     NY Residency Required within Specific Timeframe  \n",
            "...                                               ...  \n",
            "6543  NY Residency Required within Specific Timeframe  \n",
            "6544  NY Residency Required within Specific Timeframe  \n",
            "6545                        NY Residency Not Required  \n",
            "6546                        NY Residency Not Required  \n",
            "6547  NY Residency Required within Specific Timeframe  \n",
            "\n",
            "[6548 rows x 2 columns]\n"
          ]
        }
      ]
    },
    {
      "cell_type": "code",
      "source": [
        "df['Simplified Residency'].nunique() # Residency requirement now lowered to 3 unique values"
      ],
      "metadata": {
        "colab": {
          "base_uri": "https://localhost:8080/"
        },
        "id": "ibgycvnZFNl2",
        "outputId": "5e9e7a17-de9d-44fa-92a2-2a272666b2bc"
      },
      "execution_count": 19,
      "outputs": [
        {
          "output_type": "execute_result",
          "data": {
            "text/plain": [
              "3"
            ]
          },
          "metadata": {},
          "execution_count": 19
        }
      ]
    },
    {
      "cell_type": "code",
      "source": [
        "df['Simplified Residency'].unique()"
      ],
      "metadata": {
        "colab": {
          "base_uri": "https://localhost:8080/"
        },
        "id": "1ldtDrf4Ghgq",
        "outputId": "f9871106-747c-4d1d-ff36-347e671b2f7e"
      },
      "execution_count": 20,
      "outputs": [
        {
          "output_type": "execute_result",
          "data": {
            "text/plain": [
              "array(['New York Residency Required', 'NY Residency Not Required',\n",
              "       'NY Residency Required within Specific Timeframe', None],\n",
              "      dtype=object)"
            ]
          },
          "metadata": {},
          "execution_count": 20
        }
      ]
    },
    {
      "cell_type": "code",
      "source": [
        "df5 = df[(df['Posting Type'] == 'External') & (df['Title Classification'] == 'Competitive-1')]\n",
        "df5.count()"
      ],
      "metadata": {
        "colab": {
          "base_uri": "https://localhost:8080/"
        },
        "id": "dI-K-vddIfuY",
        "outputId": "5a88c17d-41ad-454d-b12b-91c28a3bce1e"
      },
      "execution_count": 21,
      "outputs": [
        {
          "output_type": "execute_result",
          "data": {
            "text/plain": [
              "Job ID                           1803\n",
              "Agency                           1803\n",
              "Posting Type                     1803\n",
              "# Of Positions                   1803\n",
              "Business Title                   1803\n",
              "Civil Service Title              1803\n",
              "Title Classification             1803\n",
              "Title Code No                    1803\n",
              "Level                            1803\n",
              "Job Category                     1803\n",
              "Full-Time/Part-Time indicator    1727\n",
              "Career Level                     1803\n",
              "Salary Range From                1803\n",
              "Salary Range To                  1803\n",
              "Salary Frequency                 1803\n",
              "Work Location                    1803\n",
              "Division/Work Unit               1803\n",
              "Job Description                  1803\n",
              "Minimum Qual Requirements        1802\n",
              "Preferred Skills                 1443\n",
              "Additional Information           1472\n",
              "To Apply                         1803\n",
              "Hours/Shift                       802\n",
              "Work Location 1                   844\n",
              "Recruitment Contact                 0\n",
              "Residency Requirement            1803\n",
              "Posting Date                     1803\n",
              "Post Until                        596\n",
              "Posting Updated                  1803\n",
              "Process Date                     1803\n",
              "Simplified Residency             1794\n",
              "dtype: int64"
            ]
          },
          "metadata": {},
          "execution_count": 21
        }
      ]
    },
    {
      "cell_type": "code",
      "source": [
        "# Filtering & creating a new dataframe based on filtering column 'Simplified Residency'\n",
        "filtered_df_residency = df[df['Simplified Residency'].isin(['New York Residency Required', 'NY Residency Not Required','NY Residency Required within Specific Timeframe'])]"
      ],
      "metadata": {
        "id": "bN5l2GrNHrTO"
      },
      "execution_count": 22,
      "outputs": []
    },
    {
      "cell_type": "code",
      "source": [
        "print(filtered_df_residency)"
      ],
      "metadata": {
        "colab": {
          "base_uri": "https://localhost:8080/"
        },
        "id": "C66KmQh7YH61",
        "outputId": "6cac3791-6492-41cf-a8f3-39d38557473c"
      },
      "execution_count": 23,
      "outputs": [
        {
          "output_type": "stream",
          "name": "stdout",
          "text": [
            "      Job ID                          Agency Posting Type  # Of Positions  \\\n",
            "0     577220      DEPT OF PARKS & RECREATION     External              10   \n",
            "1     571454  DEPT OF ENVIRONMENT PROTECTION     External               2   \n",
            "2     588481         BRONX DISTRICT ATTORNEY     External              10   \n",
            "3     591162   DEPT OF HEALTH/MENTAL HYGIENE     Internal               1   \n",
            "4     548281  DEPT OF ENVIRONMENT PROTECTION     Internal               1   \n",
            "...      ...                             ...          ...             ...   \n",
            "6543  594217           DEPARTMENT OF FINANCE     External               1   \n",
            "6544  591748   DEPT OF HEALTH/MENTAL HYGIENE     External               1   \n",
            "6545  574567       ADMIN FOR CHILDREN'S SVCS     Internal               6   \n",
            "6546  582618   DEPT OF DESIGN & CONSTRUCTION     External               1   \n",
            "6547  593755   DEPT OF HEALTH/MENTAL HYGIENE     External               1   \n",
            "\n",
            "                                         Business Title  \\\n",
            "0                         Associate Park Service Worker   \n",
            "1           Instrumentation Specialist II - 2 positions   \n",
            "2     Trial Division- Major Case Assistant District ...   \n",
            "3     Regional Nurse Supervisor - STI Unit, Bureau o...   \n",
            "4            Associate Energy Project Manager - Expense   \n",
            "...                                                 ...   \n",
            "6543                           Exemptions Administrator   \n",
            "6544  Executive Assistant, Bureau of Early Intervention   \n",
            "6545                                   Attorney Level 1   \n",
            "6546           Deputy Director (Electrical Engineering)   \n",
            "6547  Training coordinator, Bureau of Tuberculosis C...   \n",
            "\n",
            "                 Civil Service Title Title Classification Title Code No Level  \\\n",
            "0      ASSOCIATE PARK SERVICE WORKER        Competitive-1         81106    00   \n",
            "1         INSTRUMENTATION SPECIALIST        Competitive-1         91001    02   \n",
            "2     ASSISTANT DISTRICT ATTORNEY (S             Exempt-4         30114    00   \n",
            "3     ADMINISTRATIVE PUBLIC HEALTH N        Competitive-1         1003C    00   \n",
            "4            CITY RESEARCH SCIENTIST    Non-Competitive-5         21744    02   \n",
            "...                              ...                  ...           ...   ...   \n",
            "6543  PRINCIPAL ADMINISTRATIVE ASSOC        Competitive-1         10124    03   \n",
            "6544  PRINCIPAL ADMINISTRATIVE ASSOC        Competitive-1         10124    03   \n",
            "6545                 AGENCY ATTORNEY    Non-Competitive-5         30087    01   \n",
            "6546         ADM ENGINEER (NON MGRL)        Competitive-1         1001A    00   \n",
            "6547         CITY RESEARCH SCIENTIST    Non-Competitive-5         21744    01   \n",
            "\n",
            "                                           Job Category  ...  \\\n",
            "0                     Building Operations & Maintenance  ...   \n",
            "1                     Building Operations & Maintenance  ...   \n",
            "2     Legal Affairs Public Safety, Inspections, & En...  ...   \n",
            "3     Constituent Services & Community Programs Heal...  ...   \n",
            "4     Engineering, Architecture, & Planning Technolo...  ...   \n",
            "...                                                 ...  ...   \n",
            "6543  Constituent Services & Community Programs Fina...  ...   \n",
            "6544            Administration & Human Resources Health  ...   \n",
            "6545                                      Legal Affairs  ...   \n",
            "6546              Engineering, Architecture, & Planning  ...   \n",
            "6547                                             Health  ...   \n",
            "\n",
            "                                               To Apply  \\\n",
            "0     Parks Employees:\\t 1) From a Parks computer: A...   \n",
            "1                      Click the âApply Nowâ button   \n",
            "2     We appreciate your interest in a position with...   \n",
            "3     Apply online with a cover letter to https://a1...   \n",
            "4     Click on âApply Nowâ and submit a resume a...   \n",
            "...                                                 ...   \n",
            "6543  Click the Apply Now button.  While we apprecia...   \n",
            "6544  Apply online with a cover letter to https://a1...   \n",
            "6545  APPLICATIONS MUST BE SUBMITTED ELECTRONICALLY ...   \n",
            "6546  For City Employees, please go to Employee Self...   \n",
            "6547  Apply online with a cover letter to https://a1...   \n",
            "\n",
            "                                            Hours/Shift  \\\n",
            "0                                                   NaN   \n",
            "1     35 hours per week / May be required to work sh...   \n",
            "2                                                   NaN   \n",
            "3                                                   NaN   \n",
            "4                                     35 hours per week   \n",
            "...                                                 ...   \n",
            "6543  Unless otherwise indicated, all positions requ...   \n",
            "6544                                                NaN   \n",
            "6545                                                NaN   \n",
            "6546                                           35 Hours   \n",
            "6547                                                NaN   \n",
            "\n",
            "                                        Work Location 1  Recruitment Contact  \\\n",
            "0                                         Staten Island                  NaN   \n",
            "1                     10 Walker Road Valhalla, NY 10595                  NaN   \n",
            "2                                                   NaN                  NaN   \n",
            "3                                                   NaN                  NaN   \n",
            "4                        59-17 Junction Blvd, Corona NY                  NaN   \n",
            "...                                                 ...                  ...   \n",
            "6543  59 Maiden Lane, New York, NY 10038 (Current lo...                  NaN   \n",
            "6544                                                NaN                  NaN   \n",
            "6545  150 William Street, New York NY 330 Jay Street...                  NaN   \n",
            "6546                     30-30 Thomson Ave L I City Qns                  NaN   \n",
            "6547                                                NaN                  NaN   \n",
            "\n",
            "                                  Residency Requirement Posting Date  \\\n",
            "0     Residency in New York City, Nassau, Orange, Ro...   03/03/2023   \n",
            "1     New York City residency is not required for th...   01/30/2023   \n",
            "2     New York State Residency is REQUIRED on the fi...   05/25/2023   \n",
            "3     New York City Residency is not required for th...   07/03/2023   \n",
            "4     New York City residency is generally required ...   09/07/2022   \n",
            "...                                                 ...          ...   \n",
            "6543  New York City residency is generally required ...   07/28/2023   \n",
            "6544  New York City residency is generally required ...   07/05/2023   \n",
            "6545  New York City Residency is not required for th...   07/05/2023   \n",
            "6546  New York City Residency is not required for th...   07/07/2023   \n",
            "6547  New York City residency is generally required ...   07/18/2023   \n",
            "\n",
            "       Post Until Posting Updated Process Date  \\\n",
            "0             NaN      03/15/2023   08/08/2023   \n",
            "1             NaN      04/17/2023   08/08/2023   \n",
            "2     24-MAY-2024      05/25/2023   08/08/2023   \n",
            "3     31-OCT-2023      07/03/2023   08/08/2023   \n",
            "4             NaN      09/13/2022   08/08/2023   \n",
            "...           ...             ...          ...   \n",
            "6543  11-AUG-2023      07/27/2023   08/08/2023   \n",
            "6544  02-NOV-2023      07/05/2023   08/08/2023   \n",
            "6545  03-SEP-2023      07/05/2023   08/08/2023   \n",
            "6546          NaN      08/04/2023   08/08/2023   \n",
            "6547  15-NOV-2023      07/18/2023   08/08/2023   \n",
            "\n",
            "                                 Simplified Residency  \n",
            "0                         New York Residency Required  \n",
            "1                           NY Residency Not Required  \n",
            "2                         New York Residency Required  \n",
            "3                           NY Residency Not Required  \n",
            "4     NY Residency Required within Specific Timeframe  \n",
            "...                                               ...  \n",
            "6543  NY Residency Required within Specific Timeframe  \n",
            "6544  NY Residency Required within Specific Timeframe  \n",
            "6545                        NY Residency Not Required  \n",
            "6546                        NY Residency Not Required  \n",
            "6547  NY Residency Required within Specific Timeframe  \n",
            "\n",
            "[6489 rows x 31 columns]\n"
          ]
        }
      ]
    },
    {
      "cell_type": "code",
      "source": [
        "jobs_grouped_by_residency = filtered_df_residency.groupby(['Agency','Simplified Residency'])['# Of Positions'].sum()\n",
        "\n",
        "print(jobs_grouped_by_residency)"
      ],
      "metadata": {
        "colab": {
          "base_uri": "https://localhost:8080/"
        },
        "id": "E-8t3TQbXZ5c",
        "outputId": "9dfdde4a-f8e2-4c14-81eb-5eb8323757b8"
      },
      "execution_count": 24,
      "outputs": [
        {
          "output_type": "stream",
          "name": "stdout",
          "text": [
            "Agency                       Simplified Residency                           \n",
            "ADMIN FOR CHILDREN'S SVCS    NY Residency Not Required                          671\n",
            "                             NY Residency Required within Specific Timeframe    231\n",
            "ADMIN TRIALS AND HEARINGS    NY Residency Not Required                           50\n",
            "                             NY Residency Required within Specific Timeframe    121\n",
            "BOARD OF CORRECTION          NY Residency Required within Specific Timeframe     12\n",
            "                                                                               ... \n",
            "TAXI & LIMOUSINE COMMISSION  NY Residency Not Required                           80\n",
            "                             NY Residency Required within Specific Timeframe    129\n",
            "TEACHERS RETIREMENT SYSTEM   NY Residency Required within Specific Timeframe     34\n",
            "TECHNOLOGY & INNOVATION      NY Residency Not Required                            9\n",
            "                             NY Residency Required within Specific Timeframe     12\n",
            "Name: # Of Positions, Length: 102, dtype: int64\n"
          ]
        }
      ]
    },
    {
      "cell_type": "code",
      "source": [
        "# Analyse How many positions need NY Residency and how many don't to see the competition.\n",
        "\n",
        "residency_counts = df['Simplified Residency'].value_counts()\n",
        "custom_colors = ['cyan', 'green', 'orange']\n",
        "residency_counts.plot(kind='bar', figsize=(8, 6), color = custom_colors)\n",
        "\n",
        "# Adding labels and title\n",
        "plt.xlabel('Residency Requirement')\n",
        "plt.ylabel('Number of Positions')\n",
        "plt.title('Number of Positions by Residency')\n",
        "\n",
        "# Display the plot\n",
        "plt.show()"
      ],
      "metadata": {
        "colab": {
          "base_uri": "https://localhost:8080/",
          "height": 895
        },
        "id": "5xXoi6WMr9ki",
        "outputId": "61b16f7f-0ef3-49fc-8a78-bc25c5aa703b"
      },
      "execution_count": 25,
      "outputs": [
        {
          "output_type": "display_data",
          "data": {
            "text/plain": [
              "<Figure size 800x600 with 1 Axes>"
            ],
            "image/png": "[encoded data removed]"
          },
          "metadata": {}
        }
      ]
    },
    {
      "cell_type": "code",
      "source": [
        "# To check how many unique Title Classifications are there to analyse whether competitive jobs or non-competitive jobs which ones are more available\n",
        "\n",
        "df['Title Classification'].unique()"
      ],
      "metadata": {
        "colab": {
          "base_uri": "https://localhost:8080/"
        },
        "id": "1r-QghYDv4oi",
        "outputId": "a9dc5815-c71b-451c-e527-85f9a7df1683"
      },
      "execution_count": 26,
      "outputs": [
        {
          "output_type": "execute_result",
          "data": {
            "text/plain": [
              "array(['Competitive-1', 'Exempt-4', 'Non-Competitive-5',\n",
              "       'Pending Classification-2', 'Labor-3', 'Unclassified Service-6'],\n",
              "      dtype=object)"
            ]
          },
          "metadata": {},
          "execution_count": 26
        }
      ]
    },
    {
      "cell_type": "code",
      "source": [
        "desired_values = ['Competitive-1', 'Non-Competitive-5']\n",
        "\n",
        "# Filtering the DataFrame to include only desired values\n",
        "filtered_df = filtered_df_residency[filtered_df_residency['Title Classification'].isin(desired_values)]\n",
        "\n",
        "# Now computing value counts of each Title Classification\n",
        "title_class_counts = filtered_df['Title Classification'].value_counts()\n",
        "\n",
        "# Create a horizontal bar plot\n",
        "plt.figure(figsize=(8, 6))  # Adjust the figure size as needed\n",
        "sns.barplot(x=title_class_counts.index, y=title_class_counts, palette='viridis')\n",
        "plt.xlabel(\"Title Classification\")\n",
        "plt.ylabel(\"Number of Jobs\")\n",
        "plt.title(\"Title Classification Value Counts\")\n",
        "plt.tight_layout()\n",
        "plt.show()"
      ],
      "metadata": {
        "colab": {
          "base_uri": "https://localhost:8080/",
          "height": 607
        },
        "id": "aK6N2fMKxhAl",
        "outputId": "7ba1ef58-c71c-4b75-dca7-60abff546911"
      },
      "execution_count": 27,
      "outputs": [
        {
          "output_type": "display_data",
          "data": {
            "text/plain": [
              "<Figure size 800x600 with 1 Axes>"
            ],
            "image/png": "[encoded data removed]"
          },
          "metadata": {}
        }
      ]
    }
  ]
}